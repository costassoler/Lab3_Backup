{
 "cells": [
  {
   "cell_type": "code",
   "execution_count": null,
   "metadata": {},
   "outputs": [],
   "source": [
    "def FringeAmplitude(Hs,B,dec):\n",
    "    FA = []\n",
    "    lam = (3*10**8)/(10.7*10**9)\n",
    "    for i in range(0,len(Hs)):\n",
    "        Q = (np.cos(dec)*B/lam)\n",
    "        F = np.cos(2*np.pi*Q*np.sin(Hs[i]))#+B*np.sin(2*p.pi*Q*np.sin(Hs[i])), A = 1\n",
    "        FA.append(F)\n",
    "    return np.array(FA)\n",
    "\n",
    "def BestFitBaseline(Hs,Data,GuessMin,GuessMax,inc):\n",
    "    Guesses = np.arange(GuessMin,GuessMax,inc)\n",
    "    S=[]\n",
    "    for j in range (0, len(Guesses)):\n",
    "        FAmps = FringeAmplitude(Hs,Guesses[j])\n",
    "        Square = 0\n",
    "        for i in range(0,len(FAmps)):\n",
    "            Square+=(Data[j]-FAmps[j])**2\n",
    "        S.append(Square)\n",
    "            "
   ]
  }
 ],
 "metadata": {
  "kernelspec": {
   "display_name": "Python 3",
   "language": "python",
   "name": "python3"
  },
  "language_info": {
   "codemirror_mode": {
    "name": "ipython",
    "version": 3
   },
   "file_extension": ".py",
   "mimetype": "text/x-python",
   "name": "python",
   "nbconvert_exporter": "python",
   "pygments_lexer": "ipython3",
   "version": "3.6.5"
  }
 },
 "nbformat": 4,
 "nbformat_minor": 2
}
