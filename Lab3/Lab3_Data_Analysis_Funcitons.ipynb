{
 "cells": [
  {
   "cell_type": "code",
   "execution_count": 1,
   "metadata": {},
   "outputs": [],
   "source": [
    "import numpy as np\n",
    "\n",
    "def Filter (Freq, Sig, Bounds):\n",
    "    '''\n",
    "    This lets you create multiple pass filters. Each entry in bounds \n",
    "    represents a window of frequencies you'd like to let through.\n",
    "    #######################################################################\n",
    "    Arguments:\n",
    "    Freq = your frequencies array\n",
    "    Sig = your signal array\n",
    "    Bounds = an nx1 matrix, where each entry is a 2-element array. The first entry \n",
    "    and the second entry in those arrays represent the lower bound and upper bound (respectively)\n",
    "    of your window\n",
    "    Returns: Your filtered spectrum'''\n",
    "    \n",
    "    FILT = np.zeros((len(Sig)))\n",
    "    for n in range (0,len(Bounds)):\n",
    "        for i in range (0,len(Sig)):\n",
    "            if (Freq[i]>Bounds[n][0]) and (Freq[i]<Bounds[n][1]):\n",
    "                FILT[i] = Sig[i]\n",
    "    return FILT\n",
    "        "
   ]
  },
  {
   "cell_type": "code",
   "execution_count": null,
   "metadata": {},
   "outputs": [],
   "source": []
  }
 ],
 "metadata": {
  "kernelspec": {
   "display_name": "Python 3",
   "language": "python",
   "name": "python3"
  },
  "language_info": {
   "codemirror_mode": {
    "name": "ipython",
    "version": 3
   },
   "file_extension": ".py",
   "mimetype": "text/x-python",
   "name": "python",
   "nbconvert_exporter": "python",
   "pygments_lexer": "ipython3",
   "version": "3.6.5"
  }
 },
 "nbformat": 4,
 "nbformat_minor": 2
}
